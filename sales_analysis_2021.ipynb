{
 "cells": [
  {
   "cell_type": "code",
   "execution_count": null,
   "metadata": {},
   "outputs": [],
   "source": [
    "### 1. Library Imports and Excel File Read-in\n",
    "\n",
    "import pandas as pd\n",
    "from datetime import datetime as dt\n",
    "import seaborn as sns\n",
    "import matplotlib.pyplot as plt\n",
    "from IPython.display import display\n",
    "\n",
    "df = pd.read_excel('/Users/mburley/Desktop/2022 Oakley Data/2022_Oakley_Transactions_Master.xlsx') #Reads in data from excel file\n",
    "print(df.tail(5))"
   ]
  },
  {
   "cell_type": "code",
   "execution_count": null,
   "metadata": {},
   "outputs": [],
   "source": [
    "### 2. Drop Columns \n",
    "\n",
    "df = df.drop(['Date Bought 2021', 'Week', 'Transfer Fees (Paypal)', 'Parts','Unnamed: 13', 'Unnamed: 15', 'Unnamed: 17', 'Unnamed: 18', 'Unnamed: 19', 'Unnamed: 20', 'Unnamed: 21', 'Unnamed: 23', 'Unnamed: 24', 'Unnamed: 25', 'Extra Charges', 'SALES', 'Unnamed: 27', 'Unnamed: 28', 'Unnamed: 30', 'Unnamed: 31', 'Personal Pairs', 'Unnamed: 33', 'Unnamed: 34', 'Unnamed: 35', 'Unnamed: 37', 'Additional Write-offs'], 1)\n",
    "df"
   ]
  },
  {
   "cell_type": "code",
   "execution_count": null,
   "metadata": {},
   "outputs": [],
   "source": [
    "### 3. List Column Data Types\n",
    "\n",
    "# Convert \"Paid' column to float64 by first changing NaN to 0\n",
    "df['Paid'].fillna(0).astype(float)\n",
    "\n",
    "# Convert 'Sale Price' column to float64 by first changing NaN to 0\n",
    "#print(df.loc[pd.to_numeric(df['Sale Price'], errors='coerce').isnull()])\n",
    "#pd.to_numeric(df['Sale Price']).astype(int)\n",
    "df[\"Sale Price\"] = df[\"Sale Price\"].astype(str).str.strip().replace(\"\",0).astype(float)\n",
    "\n",
    "# Convert \"Date Bought\" column to Datetime\n",
    "df['Date Bought 2022'].apply(pd.to_datetime)\n",
    "\n",
    "# Convert \"Date Sold\" column to Datetime\n",
    "df['Date Sold'].apply(pd.to_datetime)\n",
    "\n",
    "# List Data Types\n",
    "df.dtypes"
   ]
  },
  {
   "cell_type": "code",
   "execution_count": null,
   "metadata": {},
   "outputs": [],
   "source": [
    "### 4. Describe Data\n",
    "\n",
    "df.describe()"
   ]
  },
  {
   "cell_type": "code",
   "execution_count": null,
   "metadata": {},
   "outputs": [],
   "source": [
    "### 5. Find Sum Totals for \"Paid\", \"Sale Price\", \"Profit\", \"Shipping Fees\" Columns\n",
    "\n",
    "print(\"Total Spent on Inventory Acqiusition: $\" + df['Paid'].sum().astype(str))\n",
    "print(\"Total Amount Sold: $\" + df['Sale Price'].sum().astype(str))\n",
    "print(\"Total Net Profit: $\" + df['Profit*'].sum().astype(str))\n",
    "print(\"Total Spent on Shipping Fees: $\" + df['Shipping Fees*'].sum().astype(str))"
   ]
  },
  {
   "cell_type": "code",
   "execution_count": null,
   "metadata": {},
   "outputs": [],
   "source": [
    "### 6. Top 10 Most Popular Frame Styles\n",
    "\n",
    "# Count 'Frame Style' values based on 'Sale Price' entries counted up, and sort the counted 'Paid' values highest to lowest, display Top 10\n",
    "freq_frames_sold = df.groupby('Frame Style').count().sort_values(['Sale Price'], ascending=False)['Sale Price'].head(10)\n",
    "display(freq_frames_sold)\n",
    "\n",
    "### Graph:\n",
    "\n",
    "# Create Seaborn Barplot and rename y label\n",
    "plt.figure(figsize=(15,6))\n",
    "# x = 'Values Displayed for x axis' and y = 'Values Displayed for y axis' and data = location data is being pulled in from\n",
    "chart6 = sns.barplot(x = 'Frame Style', y = 'Sale Price', data = freq_frames_sold.reset_index(), color = \"green\")\n",
    "plt.xlabel('Frame style', size = 12)\n",
    "plt.ylabel('Number Sold', size = 12)\n",
    "chart6.set_title('Top 10 Most Popular Frame Styles', size = 12)\n",
    "# Rotates x axis values\n",
    "chart6.set_xticklabels(chart6.get_xticklabels(), rotation=20)\n",
    "plt.show()"
   ]
  },
  {
   "cell_type": "code",
   "execution_count": null,
   "metadata": {},
   "outputs": [],
   "source": [
    "### 7. Top 10 Most Expensive Items Sold\n",
    "\n",
    "# .nlargest(how many largest values shown, in which columns)\n",
    "df7 = df.nlargest(10, ['Sale Price'], keep = 'all')\n",
    "display(df7)\n",
    "\n",
    "### Graph:\n",
    "\n",
    "plt.figure(figsize=(15,6))\n",
    "chart7 = sns.barplot(x = 'Frame Style', y = 'Sale Price', data = df7, color = \"Blue\")\n",
    "plt.xlabel('Frame Style', size = 12)\n",
    "plt.ylabel('Sale Price', size = 12)\n",
    "chart7.set_title('Top 10 Most Expensive Items Sold', size = 12)\n",
    "chart7.set_xticklabels(chart7.get_xticklabels(), rotation=20)\n",
    "plt.show()"
   ]
  },
  {
   "cell_type": "code",
   "execution_count": null,
   "metadata": {},
   "outputs": [],
   "source": [
    "### 8. Most Common Purchasing Website\n",
    "\n",
    "# Display 'Website' and count(), and display values in the 'Paid' column from high to low, ['Paid'] at end means display ONLY that col\n",
    "freq_websites = df.groupby('Website').count().sort_values(['Paid'], ascending = False)['Paid']\n",
    "display(freq_websites)\n",
    "# df['Location'].count()\n",
    "\n",
    "### Graph:\n",
    "\n",
    "# Create Seaborn Barplot and rename y label\n",
    "plt.figure(figsize=(15,6))\n",
    "# x = 'Values Displayed for x axis' and y = 'Values Displayed for y axis' and data = location data is being pulled in from\n",
    "chart8 = sns.barplot(x = 'Website', y = 'Paid', data = freq_websites.reset_index(), color = \"red\")\n",
    "plt.xlabel('Website', size = 12)\n",
    "plt.ylabel('Number Purchased', size = 12)\n",
    "chart8.set_title('Most Common Purchasing Website', size = 12)\n",
    "# Rotates x axis values\n",
    "chart8.set_xticklabels(chart8.get_xticklabels(), rotation = 20)\n",
    "plt.show()"
   ]
  },
  {
   "cell_type": "code",
   "execution_count": null,
   "metadata": {},
   "outputs": [],
   "source": [
    "### 9. Compute Total Amount Purchased and Sold from Each Website\n",
    "\n",
    "# Display Amount Purchased from each Website\n",
    "sum_per_website = df.groupby(['Website']).sum().sort_values(['Paid'], ascending = False)['Paid']\n",
    "display(sum_per_website)\n",
    "\n",
    "# Display Amount Sold from each Website\n",
    "sum_sold_website = df.groupby(['Website']).sum().sort_values(['Sale Price'], ascending = False)['Sale Price']\n",
    "display(sum_sold_website)\n",
    "\n",
    "### Graph: \n",
    "\n",
    "# Create df with website and summed values\n",
    "df9 = df.groupby(['Website']).sum().sort_values(['Paid'], ascending = False).drop(['Total', 'Profit*', 'Shipping Fees*'], 1)\n",
    "display(df9)"
   ]
  },
  {
   "cell_type": "code",
   "execution_count": null,
   "metadata": {},
   "outputs": [],
   "source": [
    "### 10. Count the Number of Items Bought and Sold\n",
    "\n",
    "total_bought = df['Paid'].count().astype(str)\n",
    "print(\"Total Number of Items bought: \" + total_bought)\n",
    "\n",
    "total_sold = df['Sale Price'].count().astype(str)\n",
    "print(\"Total Number of Items Sold: \" + total_sold)\n",
    "\n",
    "print(\"\\n\")\n",
    "\n",
    "### 10.5. Count the Number of Complete Pairs Bought and Sold\n",
    "\n",
    "total_complete_bought = df.dropna(axis=0, subset=['Frame Color', 'Lenses']).count().astype(str)['Paid']\n",
    "print(\"Total Number of Complete Pairs bought: \" + total_complete_bought)\n",
    "\n",
    "total_complete_sold = df.dropna(axis=0, subset=['Frame Color', 'Lenses']).count().astype(str)['Sale Price']\n",
    "print(\"Total Number of Complete Pairs sold: \" + total_complete_sold)\n"
   ]
  },
  {
   "cell_type": "code",
   "execution_count": null,
   "metadata": {},
   "outputs": [],
   "source": [
    "### 11. Most profitable Frame Style Based on Avg Sale of all counted \"Frame Styles\" (Tests profitability vs. availibility)\n",
    "## Ex. (M Frame Avg Profit) * (Number of M Frames Sold / Total Frames Sold)\n",
    "\n",
    "# Create var = Grouped Frame Style Values\n",
    "group = df.groupby('Frame Style', sort = False)\n",
    "#group\n",
    "\n",
    "# Using group var, find mean of profit values for each frame, times counted frame sold / total sold like Example above and sort\n",
    "weighted_profit = group['Profit*'].sum()*(group['Profit*'].count().astype(float)/total_sold.astype(float))\n",
    "weighted_profit.sort_values(ascending = False).head(15)\n"
   ]
  },
  {
   "cell_type": "code",
   "execution_count": null,
   "metadata": {},
   "outputs": [],
   "source": [
    "### 12. Most Popular Day of Week for Buying 2022\n",
    "\n",
    "## Most Popular Buying Day\n",
    "# Insert Weekday Column for day of the week bought in form df.insert(position, 'name_of_column', what you're doing)\n",
    "#df.insert(1, 'Weekday Bought', df['Date Bought'].dt.day_name())\n",
    "# Create Weekday Bought Column  by converting 'Date Bought' to day of week name\n",
    "df['Weekday Bought'] = df['Date Bought 2022'].dt.day_name()\n",
    "#df.tail(10)\n",
    "\n",
    "# Count each day of week value in \"Weekday Bought\" and list high to low\n",
    "df12 = df.groupby('Weekday Bought').count().sort_values(['Paid'], ascending = False)['Paid']\n",
    "display(df12)\n",
    "\n",
    "### Graph:\n",
    "# Reset Index and do Custom Sorting\n",
    "df12 = df12.reset_index()\n",
    "df12['Weekday Bought'] = pd.Categorical(df12['Weekday Bought'],\n",
    "                            categories=['Monday', 'Tuesday', 'Wednesday',\n",
    "                                        'Thursday', 'Friday', 'Saturday', 'Sunday'],\n",
    "                            ordered=True)\n",
    "df12 = df12.sort_values('Weekday Bought')\n",
    "\n",
    "# Generate Line Graph with x = Weekday Bought (Mon - Sun) and y = Counted Paid Values\n",
    "plt.figure(figsize=(15,6))\n",
    "chart12 = sns.lineplot(x = 'Weekday Bought', y = 'Paid', data = df12, color = \"green\")\n",
    "plt.xlabel('Weekday Bought', size = 12)\n",
    "plt.ylabel('Number Bought', size = 12)\n",
    "chart12.set_title('Most Popular Day of Week for Buying', size = 12)\n",
    "plt.show()"
   ]
  },
  {
   "cell_type": "code",
   "execution_count": null,
   "metadata": {},
   "outputs": [],
   "source": [
    "### 13. Compute Profit Acquired on Each Day of Week from above Data -> Display 'Weekday Bought' and \"Profit*\"\n",
    "\n",
    "# as_index = FALSE says we don't want to set the column ID as the index!\n",
    "df.groupby(['Weekday Bought'], as_index = False)['Profit*'].sum().sort_values(['Profit*'], ascending = False)\n"
   ]
  },
  {
   "cell_type": "code",
   "execution_count": null,
   "metadata": {},
   "outputs": [],
   "source": [
    "### 14. Most Popular Day of Week for Selling\n",
    "\n",
    "## Most Popular Selling Day\n",
    "# Insert Weekday Column for day of the week Sold in form df.insert(position, 'name_of_column', what you're doing)\n",
    "df['Weekday Sold'] = df['Date Sold'].dt.day_name()\n",
    "#df.tail(10)\n",
    "\n",
    "# Count each day of week value in \"Weekday Bought\" and list high to low\n",
    "df14 = df.groupby('Weekday Sold').count().sort_values(['Sale Price'], ascending = False)['Sale Price']\n",
    "display(df14)\n",
    "\n",
    "### Graph:\n",
    "# Reset Index and do Custom Sorting\n",
    "df14 = df14.reset_index()\n",
    "df14['Weekday Sold'] = pd.Categorical(df14['Weekday Sold'],\n",
    "                            categories=['Monday', 'Tuesday', 'Wednesday',\n",
    "                                        'Thursday', 'Friday', 'Saturday', 'Sunday'],\n",
    "                            ordered=True)\n",
    "df14 = df14.sort_values('Weekday Sold')\n",
    "\n",
    "# Generate Line Graph with x = Weekday Sold (Mon - Sun) and y = Counted Sale Price Values\n",
    "plt.figure(figsize=(15,6))\n",
    "chart14 = sns.lineplot(x = 'Weekday Sold', y = 'Sale Price', data = df14, color = \"blue\")\n",
    "plt.xlabel('Weekday Sold', size = 12)\n",
    "plt.ylabel('Number Sold', size = 12)\n",
    "chart14.set_title('Most Popular Day of Week for Selling', size = 12)\n",
    "plt.show()\n"
   ]
  },
  {
   "cell_type": "code",
   "execution_count": null,
   "metadata": {},
   "outputs": [],
   "source": [
    "### 15. Compute Amount Sold on Each Day of Week from above Data -> Display 'Weekday Sold' and 'Sale Price'\n",
    "\n",
    "# as_index = FALSE says we don't want to set the column ID as the index!\n",
    "df15 = df.groupby(['Weekday Sold'], as_index = False)['Sale Price'].sum().sort_values(['Sale Price'], ascending = False)\n",
    "display(df15)\n",
    "\n",
    "### Graph:\n",
    "# Reset Index and do Custom Sorting\n",
    "df15 = df15.reset_index()\n",
    "df15['Weekday Sold'] = pd.Categorical(df15['Weekday Sold'],\n",
    "                            categories=['Monday', 'Tuesday', 'Wednesday',\n",
    "                                        'Thursday', 'Friday', 'Saturday', 'Sunday'],\n",
    "                            ordered=True)\n",
    "df15 = df15.sort_values('Weekday Sold')\n",
    "\n",
    "# Generate Line Graph with x = Weekday Sold and y = Summed Sale Price Values\n",
    "plt.figure(figsize=(15,6))\n",
    "chart15 = sns.lineplot(x = 'Weekday Sold', y = 'Sale Price', data = df15, color = \"red\")\n",
    "plt.xlabel('Weekday Sold', size = 12)\n",
    "plt.ylabel('Number Sold', size = 12)\n",
    "chart12.set_title('Amount Sold on Each Day of Week', size = 12)\n",
    "plt.show()"
   ]
  },
  {
   "cell_type": "code",
   "execution_count": null,
   "metadata": {},
   "outputs": [],
   "source": [
    "### 16. Best Week For Buying\n",
    "\n",
    "# Best Week for Buying (Week with Most Bought)\n",
    "# Creates \"Week Bought\" column and sets it equal to the week number from the date of the item sold\n",
    "df['Week Bought'] = df['Date Bought 2022'].dt.strftime('%U')\n",
    "df.tail(30)\n",
    "df.groupby('Week Bought').sum().sort_values(['Paid'], ascending = False).head(10)['Paid']\n"
   ]
  },
  {
   "cell_type": "code",
   "execution_count": null,
   "metadata": {},
   "outputs": [],
   "source": [
    "### 17. Best Month For Buying \n",
    "\n",
    "# Best Month for Buying\n",
    "# Creates \"Month Bought\" column and sets it equal to the month number from the date of the item bought then converts to Month Names in datetime dtype\n",
    "df['Month Bought'] = pd.to_datetime(df['Date Bought 2022'], format='%m').dt.month_name().str.slice(stop=12)\n",
    "\n",
    "# Group \"Month Bought\" then sum, sort and display \"Paid\" values\n",
    "df.groupby('Month Bought').sum().sort_values(['Paid'], ascending = False)['Paid']\n"
   ]
  },
  {
   "cell_type": "code",
   "execution_count": null,
   "metadata": {},
   "outputs": [],
   "source": [
    "### 18. Best Month For Selling \n",
    "\n",
    "# Best Month for Selling\n",
    "# Creates \"Month Sold\" column and sets it equal to the month number from the date of the item sold then converts it to a Month Name and datetime dtype\n",
    "df['Month Sold'] = pd.to_datetime(df['Date Sold'], format='%m').dt.month_name()\n",
    "\n",
    "# Group \"Month Sold\" then sum, sort and display \"Sale Price\" values\n",
    "df.groupby('Month Sold').sum().sort_values(['Sale Price'], ascending = False).head(10)['Sale Price']\n"
   ]
  },
  {
   "cell_type": "code",
   "execution_count": null,
   "metadata": {},
   "outputs": [],
   "source": [
    "### 19. Compute the Avg Number of Items Bought/Sold Per Day -> Total Bought/Sold(Prompt 10) / Total Days\n",
    "\n",
    "# Compute Total Number of Days\n",
    "least_recent_date = dt(2022, 1, 1)\n",
    "most_recent_date = df['Date Bought 2022'].max()\n",
    "#print(most_recent_date)\n",
    "time_delta = most_recent_date - least_recent_date\n",
    "#print(time_delta)\n",
    "\n",
    "# Convert time_delta from timedelta to float\n",
    "total_days = time_delta.total_seconds() / (24 * 60 * 60)\n",
    "#print(total_days)\n",
    "\n",
    "\n",
    "## Avg Number of Pairs Bought Per Day\n",
    "bought_2022 = total_bought.astype(float) - 161\n",
    "#print(bought_2022)\n",
    "avg_bought_per_day = (bought_2022.astype(float) / total_days).astype(str)\n",
    "print(\"The Average Number of Items Bought per day is: \" + avg_bought_per_day)\n",
    "\n",
    "\n",
    "## Avg Number of Pairs Sold Per Day\n",
    "#print(total_sold)\n",
    "avg_sold_per_day = (total_sold.astype(float) / total_days).astype(str)\n",
    "print(\"The Average Number of Items Sold per day is: \" + avg_sold_per_day)\n"
   ]
  },
  {
   "cell_type": "code",
   "execution_count": null,
   "metadata": {},
   "outputs": [],
   "source": [
    "### 20. Count Total Number of Pairs Bought from each State\n",
    "\n",
    "# Display Amount Purchased from each Website\n",
    "pairs_from_state = df.value_counts(['State Bought'])\n",
    "display(pairs_from_state.head(10))\n"
   ]
  },
  {
   "cell_type": "code",
   "execution_count": null,
   "metadata": {},
   "outputs": [],
   "source": [
    "### 21. Coumpute Total Amount Bought from each State\n",
    "\n",
    "# Group \"State Bought\" then sum, sort and display \"Paid\" values\n",
    "df.groupby('State Bought').sum().sort_values(['Paid'], ascending = False).head(10)['Paid']\n"
   ]
  },
  {
   "cell_type": "code",
   "execution_count": null,
   "metadata": {},
   "outputs": [],
   "source": [
    "### 22. Compute Total Profit Aquired from each State\n",
    "\n",
    "# Group \"State Bought\" then sum, sort and display \"Profit*\" values\n",
    "df.groupby('State Bought').sum().sort_values(['Profit*'], ascending = False).head(10)['Profit*']\n"
   ]
  },
  {
   "cell_type": "code",
   "execution_count": null,
   "metadata": {},
   "outputs": [],
   "source": [
    "### 23. Compute Avg Amount Bought Per Week -> (Total Bought / Num Weeks)\n",
    "\n",
    "# Compute the total amount bought \n",
    "total_bought = df['Paid'].sum()\n",
    "#print(total_bought)\n",
    "\n",
    "# Count the number of weeks\n",
    "df['Week Bought'] = df['Week Bought'].astype(str).str.strip().replace(\"\",0).astype(float)\n",
    "count_weeks = df['Week Bought'].max()\n",
    "#print(count_weeks)\n",
    "\n",
    "# Computation\n",
    "avg_bought_per_week = (total_bought - 7283.6) / (count_weeks + 1)\n",
    "print(\"The average amount bought per week is: $\" + avg_bought_per_week.round(2).astype(str))"
   ]
  },
  {
   "cell_type": "code",
   "execution_count": null,
   "metadata": {},
   "outputs": [],
   "source": [
    "### 24. Compute Avg Number of Items bought per week\n",
    "\n",
    "# Load in total number of pairs bought\n",
    "total_bought = df['Paid'].count()\n",
    "#print(total_bought)\n",
    "\n",
    "# Count total number of weeks\n",
    "#print(count_weeks)\n",
    "\n",
    "# Divide total bought divided by total weeks to compute AVG\n",
    "avg_num_bought_per_week = (total_bought / count_weeks)\n",
    "#str(avg_num_bought_per_week)\n",
    "print(\"The avg number of items purchased per week is: \" + avg_num_bought_per_week.round(2).astype(str))"
   ]
  },
  {
   "cell_type": "code",
   "execution_count": null,
   "metadata": {},
   "outputs": [],
   "source": [
    "### 25. Compute Net Profit Margin (Profiability) as a Percentage of Revenue\n",
    "\n",
    "total_profit = df['Profit*'].sum()\n",
    "total_profit\n",
    "\n",
    "total_revenue = df['Sale Price'].sum()\n",
    "total_revenue\n",
    "\n",
    "total_ship_costs = df['Shipping Fees*'].sum()\n",
    "total_ship_costs\n",
    "\n",
    "# Compute Post Shipping fee Net Profit Margin\n",
    "profitability = (total_profit - total_ship_costs) / total_revenue\n",
    "percentage = \"{:.2%}\".format(profitability)\n",
    "print('The Net Profit Margin is: ' + percentage)"
   ]
  },
  {
   "cell_type": "code",
   "execution_count": null,
   "metadata": {},
   "outputs": [],
   "source": [
    "### 26. Compute Inventory Assets vs. COGS (Total amount of inventory and total amount sold)\n",
    "\n",
    "# Create Inventory data frame by selecting rows where the Sale Price column values are Null \n",
    "df_inv = df[df['Sale Price'].isnull()]\n",
    "df_inv.head(10)\n",
    "\n",
    "# Sum Paid column values in df_inv to get total current inventory assets\n",
    "total_inv = df_inv['Paid'].sum()\n",
    "print(\"The total current inventory asset amount is: $\" + total_inv.round(2).astype(str))\n",
    "\n",
    "# Create COGS data frame by selecting rows where the Sale Price column values are NOT Null \n",
    "df_cogs = df[df['Sale Price'].notnull()]\n",
    "df_cogs.head(10)\n",
    "\n",
    "# Sum Paid column values in df_inv to get total current inventory assets\n",
    "total_cogs = df_cogs['Paid'].sum()\n",
    "print(\"The total COGS is: $\"+ total_cogs.round(2).astype(str))\n"
   ]
  }
 ],
 "metadata": {
  "kernelspec": {
   "display_name": "Python 3.8.5 ('base')",
   "language": "python",
   "name": "python3"
  },
  "language_info": {
   "codemirror_mode": {
    "name": "ipython",
    "version": 3
   },
   "file_extension": ".py",
   "mimetype": "text/x-python",
   "name": "python",
   "nbconvert_exporter": "python",
   "pygments_lexer": "ipython3",
   "version": "3.8.5"
  },
  "orig_nbformat": 4,
  "vscode": {
   "interpreter": {
    "hash": "f70e9cfe00649ce5deb8d2753c25c6eaa4044293049b250b74de7174948c29c9"
   }
  }
 },
 "nbformat": 4,
 "nbformat_minor": 2
}
