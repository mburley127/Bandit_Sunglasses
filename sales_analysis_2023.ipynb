{
 "cells": [
  {
   "cell_type": "code",
   "execution_count": 1,
   "metadata": {},
   "outputs": [
    {
     "name": "stdout",
     "output_type": "stream",
     "text": [
      "    Date Bought 2021 Date Bought 2022 Date Bought 2023  Date Sold   Website  \\\n",
      "923              NaT              NaN       2023-12-17 2023-12-29   Offerup   \n",
      "924              NaT              NaN       2023-12-17 2023-12-29   Offerup   \n",
      "925              NaT              NaN       2023-12-17 2023-12-29   Offerup   \n",
      "926              NaT              NaN       2023-12-17 2023-12-29   Offerup   \n",
      "927              NaT              NaN       2023-12-23 2023-12-29  Facebook   \n",
      "\n",
      "    State Bought    Frame Style Frame Color                  Lenses  Paid  \\\n",
      "923           CA    Fast Jacket   Jet Black                  G30 IR  20.0   \n",
      "924           CA    Flak Jacket       White         Prizm Field XLJ  20.0   \n",
      "925           CA    Half Jacket   Jet Black               Persimmon  20.0   \n",
      "926           CA      Radarlock   Jet Black  Gold IR Polarized Path  20.0   \n",
      "927           MI  Tank Ornament         NaN                     NaN   0.0   \n",
      "\n",
      "    Sale Price  Total  Profit*  Shipping Fees*  \n",
      "923         40  39.11    19.11            3.89  \n",
      "924         50  47.18    27.18            3.97  \n",
      "925         35  30.57    10.57            3.49  \n",
      "926         28  29.19     9.19             NaN  \n",
      "927         38  37.17    37.17            3.81  \n"
     ]
    }
   ],
   "source": [
    "### 1. Library Imports and Excel File Read-in\n",
    "\n",
    "import pandas as pd\n",
    "from datetime import datetime as dt\n",
    "import seaborn as sns\n",
    "import matplotlib.pyplot as plt\n",
    "from IPython.display import display\n",
    "\n",
    "df = pd.read_excel('/Users/mburley/Desktop/2023 Oakley Data/2023_Oakley_Transactions_Master.xlsx') #Reads in data from excel file\n",
    "print(df.tail(5))"
   ]
  },
  {
   "cell_type": "code",
   "execution_count": 2,
   "metadata": {},
   "outputs": [
    {
     "ename": "TypeError",
     "evalue": "drop() takes from 1 to 2 positional arguments but 3 were given",
     "output_type": "error",
     "traceback": [
      "\u001b[0;31m---------------------------------------------------------------------------\u001b[0m",
      "\u001b[0;31mTypeError\u001b[0m                                 Traceback (most recent call last)",
      "Cell \u001b[0;32mIn[2], line 3\u001b[0m\n\u001b[1;32m      1\u001b[0m \u001b[38;5;66;03m### 2. Drop Columns \u001b[39;00m\n\u001b[0;32m----> 3\u001b[0m df \u001b[38;5;241m=\u001b[39m \u001b[43mdf\u001b[49m\u001b[38;5;241;43m.\u001b[39;49m\u001b[43mdrop\u001b[49m\u001b[43m(\u001b[49m\u001b[43m[\u001b[49m\u001b[38;5;124;43m'\u001b[39;49m\u001b[38;5;124;43mDate Bought 2021\u001b[39;49m\u001b[38;5;124;43m'\u001b[39;49m\u001b[43m,\u001b[49m\u001b[43m \u001b[49m\u001b[38;5;124;43m'\u001b[39;49m\u001b[38;5;124;43mDate Bought 2022\u001b[39;49m\u001b[38;5;124;43m'\u001b[39;49m\u001b[43m]\u001b[49m\u001b[43m,\u001b[49m\u001b[43m \u001b[49m\u001b[38;5;241;43m1\u001b[39;49m\u001b[43m)\u001b[49m\n\u001b[1;32m      4\u001b[0m df\n",
      "\u001b[0;31mTypeError\u001b[0m: drop() takes from 1 to 2 positional arguments but 3 were given"
     ]
    }
   ],
   "source": [
    "### 2. Drop Columns \n",
    "\n",
    "df = df.drop(['Date Bought 2021', 'Date Bought 2022'], 1)\n",
    "df"
   ]
  },
  {
   "cell_type": "code",
   "execution_count": null,
   "metadata": {},
   "outputs": [
    {
     "data": {
      "text/plain": [
       "Date Bought 2023    datetime64[ns]\n",
       "Date Sold           datetime64[ns]\n",
       "Website                     object\n",
       "State Bought                object\n",
       "Frame Style                 object\n",
       "Frame Color                 object\n",
       "Lenses                      object\n",
       "Paid                       float64\n",
       "Sale Price                 float64\n",
       "Total                       object\n",
       "Profit*                    float64\n",
       "Shipping Fees*             float64\n",
       "dtype: object"
      ]
     },
     "execution_count": 4,
     "metadata": {},
     "output_type": "execute_result"
    }
   ],
   "source": [
    "### 3. List Column Data Types\n",
    "\n",
    "# Convert \"Paid' column to float64 by first changing NaN to 0\n",
    "df['Paid'].fillna(0).astype(float)\n",
    "\n",
    "# Convert 'Sale Price' column to float64 by first changing NaN to 0\n",
    "#print(df.loc[pd.to_numeric(df['Sale Price'], errors='coerce').isnull()])\n",
    "#pd.to_numeric(df['Sale Price']).astype(int)\n",
    "df[\"Sale Price\"] = df[\"Sale Price\"].astype(str).str.strip().replace(\"\",0).astype(float)\n",
    "\n",
    "# Convert \"Date Bought\" column to Datetime\n",
    "df['Date Bought 2023'].apply(pd.to_datetime)\n",
    "\n",
    "# Convert \"Date Sold\" column to Datetime\n",
    "df['Date Sold'] = pd.to_datetime(df['Date Sold'], errors='coerce')\n",
    "df['Date Sold'].apply(pd.to_datetime)\n",
    "\n",
    "# List Data Types\n",
    "df.dtypes"
   ]
  },
  {
   "cell_type": "code",
   "execution_count": null,
   "metadata": {},
   "outputs": [
    {
     "data": {
      "text/html": [
       "<div>\n",
       "<style scoped>\n",
       "    .dataframe tbody tr th:only-of-type {\n",
       "        vertical-align: middle;\n",
       "    }\n",
       "\n",
       "    .dataframe tbody tr th {\n",
       "        vertical-align: top;\n",
       "    }\n",
       "\n",
       "    .dataframe thead th {\n",
       "        text-align: right;\n",
       "    }\n",
       "</style>\n",
       "<table border=\"1\" class=\"dataframe\">\n",
       "  <thead>\n",
       "    <tr style=\"text-align: right;\">\n",
       "      <th></th>\n",
       "      <th>Paid</th>\n",
       "      <th>Sale Price</th>\n",
       "      <th>Profit*</th>\n",
       "      <th>Shipping Fees*</th>\n",
       "    </tr>\n",
       "  </thead>\n",
       "  <tbody>\n",
       "    <tr>\n",
       "      <th>count</th>\n",
       "      <td>1265.000000</td>\n",
       "      <td>688.000000</td>\n",
       "      <td>687.000000</td>\n",
       "      <td>635.000000</td>\n",
       "    </tr>\n",
       "    <tr>\n",
       "      <th>mean</th>\n",
       "      <td>67.173660</td>\n",
       "      <td>158.580669</td>\n",
       "      <td>76.033843</td>\n",
       "      <td>4.426031</td>\n",
       "    </tr>\n",
       "    <tr>\n",
       "      <th>std</th>\n",
       "      <td>72.451058</td>\n",
       "      <td>147.232143</td>\n",
       "      <td>71.804513</td>\n",
       "      <td>1.854890</td>\n",
       "    </tr>\n",
       "    <tr>\n",
       "      <th>min</th>\n",
       "      <td>0.000000</td>\n",
       "      <td>0.000000</td>\n",
       "      <td>-20.820000</td>\n",
       "      <td>3.260000</td>\n",
       "    </tr>\n",
       "    <tr>\n",
       "      <th>25%</th>\n",
       "      <td>20.000000</td>\n",
       "      <td>65.000000</td>\n",
       "      <td>34.255000</td>\n",
       "      <td>3.885000</td>\n",
       "    </tr>\n",
       "    <tr>\n",
       "      <th>50%</th>\n",
       "      <td>50.000000</td>\n",
       "      <td>125.000000</td>\n",
       "      <td>58.110000</td>\n",
       "      <td>4.090000</td>\n",
       "    </tr>\n",
       "    <tr>\n",
       "      <th>75%</th>\n",
       "      <td>85.000000</td>\n",
       "      <td>190.000000</td>\n",
       "      <td>90.880000</td>\n",
       "      <td>4.240000</td>\n",
       "    </tr>\n",
       "    <tr>\n",
       "      <th>max</th>\n",
       "      <td>650.000000</td>\n",
       "      <td>1250.000000</td>\n",
       "      <td>670.000000</td>\n",
       "      <td>23.770000</td>\n",
       "    </tr>\n",
       "  </tbody>\n",
       "</table>\n",
       "</div>"
      ],
      "text/plain": [
       "              Paid   Sale Price     Profit*  Shipping Fees*\n",
       "count  1265.000000   688.000000  687.000000      635.000000\n",
       "mean     67.173660   158.580669   76.033843        4.426031\n",
       "std      72.451058   147.232143   71.804513        1.854890\n",
       "min       0.000000     0.000000  -20.820000        3.260000\n",
       "25%      20.000000    65.000000   34.255000        3.885000\n",
       "50%      50.000000   125.000000   58.110000        4.090000\n",
       "75%      85.000000   190.000000   90.880000        4.240000\n",
       "max     650.000000  1250.000000  670.000000       23.770000"
      ]
     },
     "execution_count": 5,
     "metadata": {},
     "output_type": "execute_result"
    }
   ],
   "source": [
    "### 4. Describe Data\n",
    "\n",
    "df.describe()\n"
   ]
  },
  {
   "cell_type": "code",
   "execution_count": null,
   "metadata": {},
   "outputs": [
    {
     "name": "stdout",
     "output_type": "stream",
     "text": [
      "Total Spent on Inventory Acqiusition: $84974.68000000001\n",
      "Total Amount Sold: $109103.5\n",
      "Total Spent on Shipping Fees: $2810.5299999999997\n",
      "Total Net Profit: $52235.25\n"
     ]
    }
   ],
   "source": [
    "### 5. Find Sum Totals for \"Paid\", \"Sale Price\", \"Profit\", \"Shipping Fees\" Columns\n",
    "\n",
    "print(\"Total Spent on Inventory Acqiusition: $\" + df['Paid'].sum().astype(str))\n",
    "print(\"Total Amount Sold: $\" + df['Sale Price'].sum().astype(str))\n",
    "print(\"Total Spent on Shipping Fees: $\" + df['Shipping Fees*'].sum().astype(str))\n",
    "print(\"Total Net Profit: $\" + df['Profit*'].sum().astype(str))"
   ]
  },
  {
   "cell_type": "code",
   "execution_count": null,
   "metadata": {},
   "outputs": [
    {
     "data": {
      "text/plain": [
       "Frame Style\n",
       "M Frame            27\n",
       "Jawbone            22\n",
       "Eye Jacket         21\n",
       "Juliet             19\n",
       "M Frame Pro        18\n",
       "Straight Jacket    18\n",
       "Radar              17\n",
       "Minute             16\n",
       "Racing Jacket      14\n",
       "Monster Dog        12\n",
       "Name: Sale Price, dtype: int64"
      ]
     },
     "metadata": {},
     "output_type": "display_data"
    },
    {
     "data": {
      "image/png": "[encoded data removed]",
      "text/plain": [
       "<Figure size 1080x432 with 1 Axes>"
      ]
     },
     "metadata": {
      "needs_background": "light"
     },
     "output_type": "display_data"
    }
   ],
   "source": [
    "### 6. Top 10 Most Popular Frame Styles\n",
    "\n",
    "# Count 'Frame Style' values based on 'Sale Price' entries counted up, and sort the counted 'Paid' values highest to lowest, display Top 10\n",
    "freq_frames_sold = df.groupby('Frame Style').count().sort_values(['Sale Price'], ascending=False)['Sale Price'].head(10)\n",
    "display(freq_frames_sold)\n",
    "\n",
    "### Graph:\n",
    "\n",
    "# Create Seaborn Barplot and rename y label\n",
    "plt.figure(figsize=(15,6))\n",
    "# x = 'Values Displayed for x axis' and y = 'Values Displayed for y axis' and data = location data is being pulled in from\n",
    "chart6 = sns.barplot(x = 'Frame Style', y = 'Sale Price', data = freq_frames_sold.reset_index(), color = \"green\")\n",
    "plt.xlabel('Frame style', size = 12)\n",
    "plt.ylabel('Number Sold', size = 12)\n",
    "chart6.set_title('Top 10 Most Popular Frame Styles', size = 12)\n",
    "# Rotates x axis values\n",
    "chart6.set_xticklabels(chart6.get_xticklabels(), rotation=20)\n",
    "plt.show()"
   ]
  },
  {
   "cell_type": "code",
   "execution_count": null,
   "metadata": {},
   "outputs": [
    {
     "data": {
      "text/html": [
       "<div>\n",
       "<style scoped>\n",
       "    .dataframe tbody tr th:only-of-type {\n",
       "        vertical-align: middle;\n",
       "    }\n",
       "\n",
       "    .dataframe tbody tr th {\n",
       "        vertical-align: top;\n",
       "    }\n",
       "\n",
       "    .dataframe thead th {\n",
       "        text-align: right;\n",
       "    }\n",
       "</style>\n",
       "<table border=\"1\" class=\"dataframe\">\n",
       "  <thead>\n",
       "    <tr style=\"text-align: right;\">\n",
       "      <th></th>\n",
       "      <th>Date Bought 2023</th>\n",
       "      <th>Date Sold</th>\n",
       "      <th>Website</th>\n",
       "      <th>State Bought</th>\n",
       "      <th>Frame Style</th>\n",
       "      <th>Frame Color</th>\n",
       "      <th>Lenses</th>\n",
       "      <th>Paid</th>\n",
       "      <th>Sale Price</th>\n",
       "      <th>Total</th>\n",
       "      <th>Profit*</th>\n",
       "      <th>Shipping Fees*</th>\n",
       "    </tr>\n",
       "  </thead>\n",
       "  <tbody>\n",
       "    <tr>\n",
       "      <th>1069</th>\n",
       "      <td>2023-07-24</td>\n",
       "      <td>2023-07-07</td>\n",
       "      <td>Craigslist</td>\n",
       "      <td>IL</td>\n",
       "      <td>Romeo 1</td>\n",
       "      <td>X-Metal</td>\n",
       "      <td>Black IR</td>\n",
       "      <td>650.0</td>\n",
       "      <td>1250.0</td>\n",
       "      <td>1078.47</td>\n",
       "      <td>428.47</td>\n",
       "      <td>10.73</td>\n",
       "    </tr>\n",
       "    <tr>\n",
       "      <th>904</th>\n",
       "      <td>2023-05-16</td>\n",
       "      <td>2023-05-26</td>\n",
       "      <td>Facebook</td>\n",
       "      <td>MI</td>\n",
       "      <td>OTT</td>\n",
       "      <td>FMJ</td>\n",
       "      <td>Ice IR</td>\n",
       "      <td>550.0</td>\n",
       "      <td>1200.0</td>\n",
       "      <td>1049.37</td>\n",
       "      <td>499.37</td>\n",
       "      <td>5.86</td>\n",
       "    </tr>\n",
       "    <tr>\n",
       "      <th>606</th>\n",
       "      <td>2023-02-01</td>\n",
       "      <td>2023-02-21</td>\n",
       "      <td>Forum</td>\n",
       "      <td>CA</td>\n",
       "      <td>M Frame Gen 1</td>\n",
       "      <td>Snakeskin</td>\n",
       "      <td>Black IR Heater</td>\n",
       "      <td>500.0</td>\n",
       "      <td>850.0</td>\n",
       "      <td>850</td>\n",
       "      <td>350.00</td>\n",
       "      <td>23.76</td>\n",
       "    </tr>\n",
       "    <tr>\n",
       "      <th>607</th>\n",
       "      <td>2023-02-01</td>\n",
       "      <td>2023-02-21</td>\n",
       "      <td>Forum</td>\n",
       "      <td>CA</td>\n",
       "      <td>M Frame Gen 1</td>\n",
       "      <td>Snakeskin Red</td>\n",
       "      <td>Positive Red IR Heater</td>\n",
       "      <td>500.0</td>\n",
       "      <td>850.0</td>\n",
       "      <td>850</td>\n",
       "      <td>350.00</td>\n",
       "      <td>23.77</td>\n",
       "    </tr>\n",
       "    <tr>\n",
       "      <th>307</th>\n",
       "      <td>NaT</td>\n",
       "      <td>2023-01-30</td>\n",
       "      <td>Offerup</td>\n",
       "      <td>CA</td>\n",
       "      <td>Penny</td>\n",
       "      <td>Titanium</td>\n",
       "      <td>VR28 IR</td>\n",
       "      <td>400.0</td>\n",
       "      <td>800.0</td>\n",
       "      <td>647.15</td>\n",
       "      <td>247.15</td>\n",
       "      <td>4.12</td>\n",
       "    </tr>\n",
       "    <tr>\n",
       "      <th>482</th>\n",
       "      <td>2023-01-05</td>\n",
       "      <td>2023-03-08</td>\n",
       "      <td>eBay</td>\n",
       "      <td>PA</td>\n",
       "      <td>XX</td>\n",
       "      <td>24K Gold</td>\n",
       "      <td>24K Gold IR</td>\n",
       "      <td>400.0</td>\n",
       "      <td>800.0</td>\n",
       "      <td>800</td>\n",
       "      <td>400.00</td>\n",
       "      <td>9.81</td>\n",
       "    </tr>\n",
       "    <tr>\n",
       "      <th>833</th>\n",
       "      <td>2023-04-22</td>\n",
       "      <td>2023-09-13</td>\n",
       "      <td>Facebook</td>\n",
       "      <td>GA</td>\n",
       "      <td>X Squared</td>\n",
       "      <td>Ducati</td>\n",
       "      <td>Black IR</td>\n",
       "      <td>400.0</td>\n",
       "      <td>800.0</td>\n",
       "      <td>692.84</td>\n",
       "      <td>292.84</td>\n",
       "      <td>7.84</td>\n",
       "    </tr>\n",
       "    <tr>\n",
       "      <th>579</th>\n",
       "      <td>2023-01-31</td>\n",
       "      <td>2023-02-23</td>\n",
       "      <td>Forum</td>\n",
       "      <td>TN</td>\n",
       "      <td>Mars</td>\n",
       "      <td>X-Metal</td>\n",
       "      <td>Black IR</td>\n",
       "      <td>400.0</td>\n",
       "      <td>725.0</td>\n",
       "      <td>725</td>\n",
       "      <td>325.00</td>\n",
       "      <td>8.52</td>\n",
       "    </tr>\n",
       "    <tr>\n",
       "      <th>137</th>\n",
       "      <td>NaT</td>\n",
       "      <td>2023-01-21</td>\n",
       "      <td>Facebook</td>\n",
       "      <td>MT</td>\n",
       "      <td>Racing Jacket Pro</td>\n",
       "      <td>Orange</td>\n",
       "      <td>Persimmon to Black Trans</td>\n",
       "      <td>120.0</td>\n",
       "      <td>700.0</td>\n",
       "      <td>565.25</td>\n",
       "      <td>445.25</td>\n",
       "      <td>8.89</td>\n",
       "    </tr>\n",
       "    <tr>\n",
       "      <th>161</th>\n",
       "      <td>NaT</td>\n",
       "      <td>2023-07-26</td>\n",
       "      <td>Facebook</td>\n",
       "      <td>IA</td>\n",
       "      <td>Razor Blade</td>\n",
       "      <td>Jungle Camo</td>\n",
       "      <td>Grey Slit</td>\n",
       "      <td>300.0</td>\n",
       "      <td>700.0</td>\n",
       "      <td>615.62</td>\n",
       "      <td>315.62</td>\n",
       "      <td>NaN</td>\n",
       "    </tr>\n",
       "    <tr>\n",
       "      <th>477</th>\n",
       "      <td>2023-01-04</td>\n",
       "      <td>2023-01-17</td>\n",
       "      <td>Facebook</td>\n",
       "      <td>PA</td>\n",
       "      <td>Romeo 1</td>\n",
       "      <td>X-Metal</td>\n",
       "      <td>Black IR</td>\n",
       "      <td>30.0</td>\n",
       "      <td>700.0</td>\n",
       "      <td>700</td>\n",
       "      <td>670.00</td>\n",
       "      <td>18.65</td>\n",
       "    </tr>\n",
       "    <tr>\n",
       "      <th>570</th>\n",
       "      <td>2023-01-28</td>\n",
       "      <td>2023-04-23</td>\n",
       "      <td>Facebook</td>\n",
       "      <td>KS</td>\n",
       "      <td>Pit Boss 1</td>\n",
       "      <td>Titanium</td>\n",
       "      <td>Black IR Polarized</td>\n",
       "      <td>300.0</td>\n",
       "      <td>700.0</td>\n",
       "      <td>563.45</td>\n",
       "      <td>263.45</td>\n",
       "      <td>5.17</td>\n",
       "    </tr>\n",
       "    <tr>\n",
       "      <th>1050</th>\n",
       "      <td>2023-07-17</td>\n",
       "      <td>2023-09-13</td>\n",
       "      <td>Facebook</td>\n",
       "      <td>OR</td>\n",
       "      <td>Pit Boss 1</td>\n",
       "      <td>Matte Black/Titanium</td>\n",
       "      <td>Black IR Polarized</td>\n",
       "      <td>300.0</td>\n",
       "      <td>700.0</td>\n",
       "      <td>609.83</td>\n",
       "      <td>309.83</td>\n",
       "      <td>7.84</td>\n",
       "    </tr>\n",
       "  </tbody>\n",
       "</table>\n",
       "</div>"
      ],
      "text/plain": [
       "     Date Bought 2023  Date Sold     Website State Bought        Frame Style  \\\n",
       "1069       2023-07-24 2023-07-07  Craigslist           IL            Romeo 1   \n",
       "904        2023-05-16 2023-05-26    Facebook           MI                OTT   \n",
       "606        2023-02-01 2023-02-21       Forum           CA      M Frame Gen 1   \n",
       "607        2023-02-01 2023-02-21       Forum           CA      M Frame Gen 1   \n",
       "307               NaT 2023-01-30     Offerup           CA              Penny   \n",
       "482        2023-01-05 2023-03-08        eBay           PA                 XX   \n",
       "833        2023-04-22 2023-09-13    Facebook           GA          X Squared   \n",
       "579        2023-01-31 2023-02-23       Forum           TN               Mars   \n",
       "137               NaT 2023-01-21    Facebook           MT  Racing Jacket Pro   \n",
       "161               NaT 2023-07-26    Facebook           IA        Razor Blade   \n",
       "477        2023-01-04 2023-01-17    Facebook           PA            Romeo 1   \n",
       "570        2023-01-28 2023-04-23    Facebook           KS         Pit Boss 1   \n",
       "1050       2023-07-17 2023-09-13    Facebook           OR         Pit Boss 1   \n",
       "\n",
       "               Frame Color                    Lenses   Paid  Sale Price  \\\n",
       "1069               X-Metal                  Black IR  650.0      1250.0   \n",
       "904                    FMJ                    Ice IR  550.0      1200.0   \n",
       "606              Snakeskin           Black IR Heater  500.0       850.0   \n",
       "607          Snakeskin Red    Positive Red IR Heater  500.0       850.0   \n",
       "307               Titanium                   VR28 IR  400.0       800.0   \n",
       "482               24K Gold               24K Gold IR  400.0       800.0   \n",
       "833                 Ducati                  Black IR  400.0       800.0   \n",
       "579                X-Metal                  Black IR  400.0       725.0   \n",
       "137                 Orange  Persimmon to Black Trans  120.0       700.0   \n",
       "161            Jungle Camo                 Grey Slit  300.0       700.0   \n",
       "477                X-Metal                  Black IR   30.0       700.0   \n",
       "570               Titanium        Black IR Polarized  300.0       700.0   \n",
       "1050  Matte Black/Titanium        Black IR Polarized  300.0       700.0   \n",
       "\n",
       "        Total  Profit*  Shipping Fees*  \n",
       "1069  1078.47   428.47           10.73  \n",
       "904   1049.37   499.37            5.86  \n",
       "606       850   350.00           23.76  \n",
       "607       850   350.00           23.77  \n",
       "307    647.15   247.15            4.12  \n",
       "482       800   400.00            9.81  \n",
       "833    692.84   292.84            7.84  \n",
       "579       725   325.00            8.52  \n",
       "137    565.25   445.25            8.89  \n",
       "161    615.62   315.62             NaN  \n",
       "477       700   670.00           18.65  \n",
       "570    563.45   263.45            5.17  \n",
       "1050   609.83   309.83            7.84  "
      ]
     },
     "metadata": {},
     "output_type": "display_data"
    },
    {
     "data": {
      "image/png": "[encoded data removed]",
      "text/plain": [
       "<Figure size 1080x432 with 1 Axes>"
      ]
     },
     "metadata": {
      "needs_background": "light"
     },
     "output_type": "display_data"
    }
   ],
   "source": [
    "### 7. Top 10 Most Expensive Items Sold\n",
    "\n",
    "# .nlargest(how many largest values shown, in which columns)\n",
    "df7 = df.nlargest(10, ['Sale Price'], keep = 'all')\n",
    "display(df7)\n",
    "\n",
    "### Graph:\n",
    "\n",
    "plt.figure(figsize=(15,6))\n",
    "chart7 = sns.barplot(x = 'Frame Style', y = 'Sale Price', data = df7, color = \"Blue\")\n",
    "plt.xlabel('Frame Style', size = 12)\n",
    "plt.ylabel('Sale Price', size = 12)\n",
    "chart7.set_title('Top 10 Most Expensive Items Sold', size = 12)\n",
    "chart7.set_xticklabels(chart7.get_xticklabels(), rotation=20)\n",
    "plt.show()"
   ]
  },
  {
   "cell_type": "code",
   "execution_count": null,
   "metadata": {},
   "outputs": [
    {
     "data": {
      "text/plain": [
       "Website\n",
       "Facebook      791\n",
       "eBay          206\n",
       "Forum         131\n",
       "Offerup        69\n",
       "OfferUp        18\n",
       "OF             15\n",
       "Craigslist     12\n",
       "Goodwill        9\n",
       "OF              5\n",
       "Poshmark        4\n",
       "Mercari         2\n",
       "Oakley.com      1\n",
       "ShoePalace      1\n",
       "oakley.com      1\n",
       "Name: Paid, dtype: int64"
      ]
     },
     "metadata": {},
     "output_type": "display_data"
    },
    {
     "data": {
      "image/png": "[encoded data removed]",
      "text/plain": [
       "<Figure size 1080x432 with 1 Axes>"
      ]
     },
     "metadata": {
      "needs_background": "light"
     },
     "output_type": "display_data"
    }
   ],
   "source": [
    "### 8. Most Common Purchasing Website\n",
    "\n",
    "# Display 'Website' and count(), and display values in the 'Paid' column from high to low, ['Paid'] at end means display ONLY that col\n",
    "freq_websites = df.groupby('Website').count().sort_values(['Paid'], ascending = False)['Paid']\n",
    "display(freq_websites)\n",
    "# df['Location'].count()\n",
    "\n",
    "### Graph:\n",
    "\n",
    "# Create Seaborn Barplot and rename y label\n",
    "plt.figure(figsize=(15,6))\n",
    "# x = 'Values Displayed for x axis' and y = 'Values Displayed for y axis' and data = location data is being pulled in from\n",
    "chart8 = sns.barplot(x = 'Website', y = 'Paid', data = freq_websites.reset_index(), color = \"red\")\n",
    "plt.xlabel('Website', size = 12)\n",
    "plt.ylabel('Number Purchased', size = 12)\n",
    "chart8.set_title('Most Common Purchasing Website', size = 12)\n",
    "# Rotates x axis values\n",
    "chart8.set_xticklabels(chart8.get_xticklabels(), rotation = 20)\n",
    "plt.show()"
   ]
  },
  {
   "cell_type": "code",
   "execution_count": null,
   "metadata": {},
   "outputs": [
    {
     "data": {
      "text/plain": [
       "Website\n",
       "Facebook      45973.46\n",
       "eBay          17013.57\n",
       "Forum         10387.65\n",
       "Offerup        3681.67\n",
       "Craigslist     2705.00\n",
       "OF             1517.94\n",
       "OF             1045.00\n",
       "OfferUp        1025.80\n",
       "Goodwill        772.96\n",
       "ShoePalace      241.70\n",
       "oakley.com      241.06\n",
       "Oakley.com      219.93\n",
       "Poshmark         93.75\n",
       "Mercari          55.19\n",
       "Name: Paid, dtype: float64"
      ]
     },
     "metadata": {},
     "output_type": "display_data"
    },
    {
     "data": {
      "text/plain": [
       "Website\n",
       "Facebook      67378.5\n",
       "eBay          14551.0\n",
       "Forum         14482.0\n",
       "Offerup        5409.0\n",
       "Craigslist     1990.0\n",
       "OF             1965.0\n",
       "Goodwill       1125.0\n",
       "OfferUp         993.0\n",
       "oakley.com      540.0\n",
       "OF              530.0\n",
       "Poshmark        140.0\n",
       "Mercari           0.0\n",
       "Oakley.com        0.0\n",
       "ShoePalace        0.0\n",
       "Name: Sale Price, dtype: float64"
      ]
     },
     "metadata": {},
     "output_type": "display_data"
    },
    {
     "data": {
      "text/html": [
       "<div>\n",
       "<style scoped>\n",
       "    .dataframe tbody tr th:only-of-type {\n",
       "        vertical-align: middle;\n",
       "    }\n",
       "\n",
       "    .dataframe tbody tr th {\n",
       "        vertical-align: top;\n",
       "    }\n",
       "\n",
       "    .dataframe thead th {\n",
       "        text-align: right;\n",
       "    }\n",
       "</style>\n",
       "<table border=\"1\" class=\"dataframe\">\n",
       "  <thead>\n",
       "    <tr style=\"text-align: right;\">\n",
       "      <th></th>\n",
       "      <th>Paid</th>\n",
       "      <th>Sale Price</th>\n",
       "    </tr>\n",
       "    <tr>\n",
       "      <th>Website</th>\n",
       "      <th></th>\n",
       "      <th></th>\n",
       "    </tr>\n",
       "  </thead>\n",
       "  <tbody>\n",
       "    <tr>\n",
       "      <th>Facebook</th>\n",
       "      <td>45973.46</td>\n",
       "      <td>67378.5</td>\n",
       "    </tr>\n",
       "    <tr>\n",
       "      <th>eBay</th>\n",
       "      <td>17013.57</td>\n",
       "      <td>14551.0</td>\n",
       "    </tr>\n",
       "    <tr>\n",
       "      <th>Forum</th>\n",
       "      <td>10387.65</td>\n",
       "      <td>14482.0</td>\n",
       "    </tr>\n",
       "    <tr>\n",
       "      <th>Offerup</th>\n",
       "      <td>3681.67</td>\n",
       "      <td>5409.0</td>\n",
       "    </tr>\n",
       "    <tr>\n",
       "      <th>Craigslist</th>\n",
       "      <td>2705.00</td>\n",
       "      <td>1990.0</td>\n",
       "    </tr>\n",
       "    <tr>\n",
       "      <th>OF</th>\n",
       "      <td>1517.94</td>\n",
       "      <td>1965.0</td>\n",
       "    </tr>\n",
       "    <tr>\n",
       "      <th>OF</th>\n",
       "      <td>1045.00</td>\n",
       "      <td>530.0</td>\n",
       "    </tr>\n",
       "    <tr>\n",
       "      <th>OfferUp</th>\n",
       "      <td>1025.80</td>\n",
       "      <td>993.0</td>\n",
       "    </tr>\n",
       "    <tr>\n",
       "      <th>Goodwill</th>\n",
       "      <td>772.96</td>\n",
       "      <td>1125.0</td>\n",
       "    </tr>\n",
       "    <tr>\n",
       "      <th>ShoePalace</th>\n",
       "      <td>241.70</td>\n",
       "      <td>0.0</td>\n",
       "    </tr>\n",
       "    <tr>\n",
       "      <th>oakley.com</th>\n",
       "      <td>241.06</td>\n",
       "      <td>540.0</td>\n",
       "    </tr>\n",
       "    <tr>\n",
       "      <th>Oakley.com</th>\n",
       "      <td>219.93</td>\n",
       "      <td>0.0</td>\n",
       "    </tr>\n",
       "    <tr>\n",
       "      <th>Poshmark</th>\n",
       "      <td>93.75</td>\n",
       "      <td>140.0</td>\n",
       "    </tr>\n",
       "    <tr>\n",
       "      <th>Mercari</th>\n",
       "      <td>55.19</td>\n",
       "      <td>0.0</td>\n",
       "    </tr>\n",
       "  </tbody>\n",
       "</table>\n",
       "</div>"
      ],
      "text/plain": [
       "                Paid  Sale Price\n",
       "Website                         \n",
       "Facebook    45973.46     67378.5\n",
       "eBay        17013.57     14551.0\n",
       "Forum       10387.65     14482.0\n",
       "Offerup      3681.67      5409.0\n",
       "Craigslist   2705.00      1990.0\n",
       "OF           1517.94      1965.0\n",
       "OF           1045.00       530.0\n",
       "OfferUp      1025.80       993.0\n",
       "Goodwill      772.96      1125.0\n",
       "ShoePalace    241.70         0.0\n",
       "oakley.com    241.06       540.0\n",
       "Oakley.com    219.93         0.0\n",
       "Poshmark       93.75       140.0\n",
       "Mercari        55.19         0.0"
      ]
     },
     "metadata": {},
     "output_type": "display_data"
    }
   ],
   "source": [
    "### 9. Compute Total Amount Purchased and Sold from Each Website\n",
    "\n",
    "# Display Amount Purchased from each Website\n",
    "sum_per_website = df.groupby(['Website']).sum().sort_values(['Paid'], ascending = False)['Paid']\n",
    "display(sum_per_website)\n",
    "\n",
    "# Display Amount Sold from each Website\n",
    "sum_sold_website = df.groupby(['Website']).sum().sort_values(['Sale Price'], ascending = False)['Sale Price']\n",
    "display(sum_sold_website)\n",
    "\n",
    "### Graph: \n",
    "\n",
    "# Create df with website and summed values\n",
    "df9 = df.groupby(['Website']).sum().sort_values(['Paid'], ascending = False).drop(['Profit*', 'Shipping Fees*'], 1)\n",
    "display(df9)"
   ]
  },
  {
   "cell_type": "code",
   "execution_count": null,
   "metadata": {},
   "outputs": [
    {
     "name": "stdout",
     "output_type": "stream",
     "text": [
      "Total Number of Items bought: 1265\n",
      "Total Number of Items Sold: 688\n",
      "\n",
      "\n",
      "Total Number of Complete Pairs bought: 821\n",
      "Total Number of Complete Pairs sold: 485\n"
     ]
    }
   ],
   "source": [
    "### 10. Count the Number of Items Bought and Sold\n",
    "\n",
    "total_bought = df['Paid'].count().astype(str)\n",
    "print(\"Total Number of Items bought: \" + total_bought)\n",
    "\n",
    "total_sold = df['Sale Price'].count().astype(str)\n",
    "print(\"Total Number of Items Sold: \" + total_sold)\n",
    "\n",
    "print(\"\\n\")\n",
    "\n",
    "### 10.5. Count the Number of Complete Pairs Bought and Sold\n",
    "\n",
    "total_complete_bought = df.dropna(axis=0, subset=['Frame Color', 'Lenses']).count().astype(str)['Paid']\n",
    "print(\"Total Number of Complete Pairs bought: \" + total_complete_bought)\n",
    "\n",
    "total_complete_sold = df.dropna(axis=0, subset=['Frame Color', 'Lenses']).count().astype(str)['Sale Price']\n",
    "print(\"Total Number of Complete Pairs sold: \" + total_complete_sold)"
   ]
  },
  {
   "cell_type": "code",
   "execution_count": null,
   "metadata": {},
   "outputs": [
    {
     "data": {
      "text/plain": [
       "Frame Style\n",
       "Juliet             95.491017\n",
       "M Frame            68.979506\n",
       "Eye Jacket         65.722980\n",
       "Jawbone            53.130320\n",
       "Straight Jacket    39.887529\n",
       "M Frame Pro        39.106047\n",
       "Minute             29.953256\n",
       "Racing Jacket      24.486977\n",
       "Radar              23.912674\n",
       "Splice             21.099564\n",
       "M Frame Gen 1      15.488488\n",
       "Razor Blade        14.564535\n",
       "Monster Dog        14.204128\n",
       "Mag M Frame         8.875552\n",
       "XX                  7.805000\n",
       "Name: Profit*, dtype: float64"
      ]
     },
     "execution_count": 12,
     "metadata": {},
     "output_type": "execute_result"
    }
   ],
   "source": [
    "### 11. Most profitable Frame Style Based on Avg Sale of all counted \"Frame Styles\" (Tests profitability vs. availibility)\n",
    "## Ex. (M Frame Avg Profit) * (Number of M Frames Sold / Total Frames Sold)\n",
    "\n",
    "# Create var = Grouped Frame Style Values\n",
    "group = df.groupby('Frame Style', sort = False)\n",
    "#group\n",
    "\n",
    "# Using group var, find mean of profit values for each frame, times counted frame sold / total sold like Example above and sort\n",
    "weighted_profit = group['Profit*'].sum()*(group['Profit*'].count().astype(float)/total_sold.astype(float))\n",
    "weighted_profit.sort_values(ascending = False).head(15)"
   ]
  },
  {
   "cell_type": "code",
   "execution_count": null,
   "metadata": {},
   "outputs": [
    {
     "data": {
      "text/plain": [
       "Weekday Bought\n",
       "Sunday       227\n",
       "Wednesday    141\n",
       "Monday       110\n",
       "Tuesday       97\n",
       "Friday        84\n",
       "Thursday      82\n",
       "Saturday      65\n",
       "Name: Paid, dtype: int64"
      ]
     },
     "metadata": {},
     "output_type": "display_data"
    },
    {
     "data": {
      "image/png": "[encoded data removed]",
      "text/plain": [
       "<Figure size 1080x432 with 1 Axes>"
      ]
     },
     "metadata": {
      "needs_background": "light"
     },
     "output_type": "display_data"
    }
   ],
   "source": [
    "### 12. Most Popular Day of Week for Buying 2023\n",
    "\n",
    "## Most Popular Buying Day\n",
    "# Insert Weekday Column for day of the week bought in form df.insert(position, 'name_of_column', what you're doing)\n",
    "#df.insert(1, 'Weekday Bought', df['Date Bought'].dt.day_name())\n",
    "# Create Weekday Bought Column  by converting 'Date Bought' to day of week name\n",
    "df['Weekday Bought'] = df['Date Bought 2023'].dt.day_name()\n",
    "#df.tail(10)\n",
    "\n",
    "# Count each day of week value in \"Weekday Bought\" and list high to low\n",
    "df12 = df.groupby('Weekday Bought').count().sort_values(['Paid'], ascending = False)['Paid']\n",
    "display(df12)\n",
    "\n",
    "### Graph:\n",
    "# Reset Index and do Custom Sorting\n",
    "df12 = df12.reset_index()\n",
    "df12['Weekday Bought'] = pd.Categorical(df12['Weekday Bought'],\n",
    "                            categories=['Monday', 'Tuesday', 'Wednesday',\n",
    "                                        'Thursday', 'Friday', 'Saturday', 'Sunday'],\n",
    "                            ordered=True)\n",
    "df12 = df12.sort_values('Weekday Bought')\n",
    "\n",
    "# Generate Line Graph with x = Weekday Bought (Mon - Sun) and y = Counted Paid Values\n",
    "plt.figure(figsize=(15,6))\n",
    "chart12 = sns.lineplot(x = 'Weekday Bought', y = 'Paid', data = df12, color = \"green\")\n",
    "plt.xlabel('Weekday Bought', size = 12)\n",
    "plt.ylabel('Number Bought', size = 12)\n",
    "chart12.set_title('Most Popular Day of Week for Buying', size = 12)\n",
    "plt.show()"
   ]
  },
  {
   "cell_type": "code",
   "execution_count": null,
   "metadata": {},
   "outputs": [
    {
     "data": {
      "text/html": [
       "<div>\n",
       "<style scoped>\n",
       "    .dataframe tbody tr th:only-of-type {\n",
       "        vertical-align: middle;\n",
       "    }\n",
       "\n",
       "    .dataframe tbody tr th {\n",
       "        vertical-align: top;\n",
       "    }\n",
       "\n",
       "    .dataframe thead th {\n",
       "        text-align: right;\n",
       "    }\n",
       "</style>\n",
       "<table border=\"1\" class=\"dataframe\">\n",
       "  <thead>\n",
       "    <tr style=\"text-align: right;\">\n",
       "      <th></th>\n",
       "      <th>Weekday Bought</th>\n",
       "      <th>Profit*</th>\n",
       "    </tr>\n",
       "  </thead>\n",
       "  <tbody>\n",
       "    <tr>\n",
       "      <th>3</th>\n",
       "      <td>Sunday</td>\n",
       "      <td>7599.64</td>\n",
       "    </tr>\n",
       "    <tr>\n",
       "      <th>6</th>\n",
       "      <td>Wednesday</td>\n",
       "      <td>7111.61</td>\n",
       "    </tr>\n",
       "    <tr>\n",
       "      <th>5</th>\n",
       "      <td>Tuesday</td>\n",
       "      <td>4124.33</td>\n",
       "    </tr>\n",
       "    <tr>\n",
       "      <th>4</th>\n",
       "      <td>Thursday</td>\n",
       "      <td>3583.56</td>\n",
       "    </tr>\n",
       "    <tr>\n",
       "      <th>0</th>\n",
       "      <td>Friday</td>\n",
       "      <td>3371.34</td>\n",
       "    </tr>\n",
       "    <tr>\n",
       "      <th>1</th>\n",
       "      <td>Monday</td>\n",
       "      <td>3249.83</td>\n",
       "    </tr>\n",
       "    <tr>\n",
       "      <th>2</th>\n",
       "      <td>Saturday</td>\n",
       "      <td>2993.78</td>\n",
       "    </tr>\n",
       "  </tbody>\n",
       "</table>\n",
       "</div>"
      ],
      "text/plain": [
       "  Weekday Bought  Profit*\n",
       "3         Sunday  7599.64\n",
       "6      Wednesday  7111.61\n",
       "5        Tuesday  4124.33\n",
       "4       Thursday  3583.56\n",
       "0         Friday  3371.34\n",
       "1         Monday  3249.83\n",
       "2       Saturday  2993.78"
      ]
     },
     "execution_count": 14,
     "metadata": {},
     "output_type": "execute_result"
    }
   ],
   "source": [
    "### 13. Compute Profit Acquired on Each Day of Week from above Data -> Display 'Weekday Bought' and \"Profit*\"\n",
    "\n",
    "# as_index = FALSE says we don't want to set the column ID as the index!\n",
    "df.groupby(['Weekday Bought'], as_index = False)['Profit*'].sum().sort_values(['Profit*'], ascending = False)"
   ]
  },
  {
   "cell_type": "code",
   "execution_count": null,
   "metadata": {},
   "outputs": [
    {
     "data": {
      "text/plain": [
       "Weekday Sold\n",
       "Friday       116\n",
       "Monday       109\n",
       "Tuesday      103\n",
       "Saturday     100\n",
       "Wednesday     87\n",
       "Sunday        85\n",
       "Thursday      85\n",
       "Name: Sale Price, dtype: int64"
      ]
     },
     "metadata": {},
     "output_type": "display_data"
    },
    {
     "data": {
      "image/png": "[encoded data removed]",
      "text/plain": [
       "<Figure size 1080x432 with 1 Axes>"
      ]
     },
     "metadata": {
      "needs_background": "light"
     },
     "output_type": "display_data"
    }
   ],
   "source": [
    "### 14. Most Popular Day of Week for Selling\n",
    "\n",
    "## Most Popular Selling Day\n",
    "# Insert Weekday Column for day of the week Sold in form df.insert(position, 'name_of_column', what you're doing)\n",
    "df['Weekday Sold'] = df['Date Sold'].dt.day_name()\n",
    "#df.tail(10)\n",
    "\n",
    "# Count each day of week value in \"Weekday Bought\" and list high to low\n",
    "df14 = df.groupby('Weekday Sold').count().sort_values(['Sale Price'], ascending = False)['Sale Price']\n",
    "display(df14)\n",
    "\n",
    "### Graph:\n",
    "# Reset Index and do Custom Sorting\n",
    "df14 = df14.reset_index()\n",
    "df14['Weekday Sold'] = pd.Categorical(df14['Weekday Sold'],\n",
    "                            categories=['Monday', 'Tuesday', 'Wednesday',\n",
    "                                        'Thursday', 'Friday', 'Saturday', 'Sunday'],\n",
    "                            ordered=True)\n",
    "df14 = df14.sort_values('Weekday Sold')\n",
    "\n",
    "# Generate Line Graph with x = Weekday Sold (Mon - Sun) and y = Counted Sale Price Values\n",
    "plt.figure(figsize=(15,6))\n",
    "chart14 = sns.lineplot(x = 'Weekday Sold', y = 'Sale Price', data = df14, color = \"blue\")\n",
    "plt.xlabel('Weekday Sold', size = 12)\n",
    "plt.ylabel('Number Sold', size = 12)\n",
    "chart14.set_title('Most Popular Day of Week for Selling', size = 12)\n",
    "plt.show()"
   ]
  },
  {
   "cell_type": "code",
   "execution_count": null,
   "metadata": {},
   "outputs": [
    {
     "data": {
      "text/html": [
       "<div>\n",
       "<style scoped>\n",
       "    .dataframe tbody tr th:only-of-type {\n",
       "        vertical-align: middle;\n",
       "    }\n",
       "\n",
       "    .dataframe tbody tr th {\n",
       "        vertical-align: top;\n",
       "    }\n",
       "\n",
       "    .dataframe thead th {\n",
       "        text-align: right;\n",
       "    }\n",
       "</style>\n",
       "<table border=\"1\" class=\"dataframe\">\n",
       "  <thead>\n",
       "    <tr style=\"text-align: right;\">\n",
       "      <th></th>\n",
       "      <th>Weekday Sold</th>\n",
       "      <th>Sale Price</th>\n",
       "    </tr>\n",
       "  </thead>\n",
       "  <tbody>\n",
       "    <tr>\n",
       "      <th>0</th>\n",
       "      <td>Friday</td>\n",
       "      <td>19004.5</td>\n",
       "    </tr>\n",
       "    <tr>\n",
       "      <th>5</th>\n",
       "      <td>Tuesday</td>\n",
       "      <td>17422.0</td>\n",
       "    </tr>\n",
       "    <tr>\n",
       "      <th>6</th>\n",
       "      <td>Wednesday</td>\n",
       "      <td>16726.5</td>\n",
       "    </tr>\n",
       "    <tr>\n",
       "      <th>2</th>\n",
       "      <td>Saturday</td>\n",
       "      <td>14824.0</td>\n",
       "    </tr>\n",
       "    <tr>\n",
       "      <th>1</th>\n",
       "      <td>Monday</td>\n",
       "      <td>14697.0</td>\n",
       "    </tr>\n",
       "    <tr>\n",
       "      <th>3</th>\n",
       "      <td>Sunday</td>\n",
       "      <td>13989.5</td>\n",
       "    </tr>\n",
       "    <tr>\n",
       "      <th>4</th>\n",
       "      <td>Thursday</td>\n",
       "      <td>12090.0</td>\n",
       "    </tr>\n",
       "  </tbody>\n",
       "</table>\n",
       "</div>"
      ],
      "text/plain": [
       "  Weekday Sold  Sale Price\n",
       "0       Friday     19004.5\n",
       "5      Tuesday     17422.0\n",
       "6    Wednesday     16726.5\n",
       "2     Saturday     14824.0\n",
       "1       Monday     14697.0\n",
       "3       Sunday     13989.5\n",
       "4     Thursday     12090.0"
      ]
     },
     "metadata": {},
     "output_type": "display_data"
    },
    {
     "data": {
      "image/png": "[encoded data removed]",
      "text/plain": [
       "<Figure size 1080x432 with 1 Axes>"
      ]
     },
     "metadata": {
      "needs_background": "light"
     },
     "output_type": "display_data"
    }
   ],
   "source": [
    "### 15. Compute Amount Sold on Each Day of Week from above Data -> Display 'Weekday Sold' and 'Sale Price'\n",
    "\n",
    "# as_index = FALSE says we don't want to set the column ID as the index!\n",
    "df15 = df.groupby(['Weekday Sold'], as_index = False)['Sale Price'].sum().sort_values(['Sale Price'], ascending = False)\n",
    "display(df15)\n",
    "\n",
    "### Graph:\n",
    "# Reset Index and do Custom Sorting\n",
    "df15 = df15.reset_index()\n",
    "df15['Weekday Sold'] = pd.Categorical(df15['Weekday Sold'],\n",
    "                            categories=['Monday', 'Tuesday', 'Wednesday',\n",
    "                                        'Thursday', 'Friday', 'Saturday', 'Sunday'],\n",
    "                            ordered=True)\n",
    "df15 = df15.sort_values('Weekday Sold')\n",
    "\n",
    "# Generate Line Graph with x = Weekday Sold and y = Summed Sale Price Values\n",
    "plt.figure(figsize=(15,6))\n",
    "chart15 = sns.lineplot(x = 'Weekday Sold', y = 'Sale Price', data = df15, color = \"red\")\n",
    "plt.xlabel('Weekday Sold', size = 12)\n",
    "plt.ylabel('Total Sale Value', size = 12)\n",
    "chart12.set_title('Amount Sold on Each Day of Week', size = 12)\n",
    "plt.show()"
   ]
  },
  {
   "cell_type": "code",
   "execution_count": null,
   "metadata": {},
   "outputs": [
    {
     "data": {
      "text/plain": [
       "Week Bought\n",
       "05    5355.92\n",
       "31    3726.25\n",
       "17    2549.13\n",
       "15    2505.95\n",
       "30    2288.11\n",
       "39    2253.69\n",
       "20    1968.78\n",
       "38    1862.13\n",
       "14    1850.27\n",
       "33    1828.05\n",
       "Name: Paid, dtype: float64"
      ]
     },
     "execution_count": 17,
     "metadata": {},
     "output_type": "execute_result"
    }
   ],
   "source": [
    "### 16. Best Week For Buying\n",
    "\n",
    "# Best Week for Buying (Week with Most Bought)\n",
    "# Creates \"Week Bought\" column and sets it equal to the week number from the date of the item sold\n",
    "df['Week Bought'] = df['Date Bought 2023'].dt.strftime('%U')\n",
    "df.tail(30)\n",
    "df.groupby('Week Bought').sum().sort_values(['Paid'], ascending = False).head(10)['Paid']"
   ]
  },
  {
   "cell_type": "code",
   "execution_count": null,
   "metadata": {},
   "outputs": [
    {
     "data": {
      "text/plain": [
       "Month Bought\n",
       "April        8292.41\n",
       "August       7495.25\n",
       "July         7175.83\n",
       "February     7087.80\n",
       "January      6666.97\n",
       "September    5764.44\n",
       "March        3996.67\n",
       "June         3606.02\n",
       "May          3500.59\n",
       "October      1563.36\n",
       "November     1337.83\n",
       "December       86.42\n",
       "Name: Paid, dtype: float64"
      ]
     },
     "execution_count": 18,
     "metadata": {},
     "output_type": "execute_result"
    }
   ],
   "source": [
    "### 17. Best Month For Buying \n",
    "\n",
    "# Best Month for Buying\n",
    "# Creates \"Month Bought\" column and sets it equal to the month number from the date of the item bought then converts to Month Names in datetime dtype\n",
    "df['Month Bought'] = pd.to_datetime(df['Date Bought 2023'], format='%m').dt.month_name().str.slice(stop=12)\n",
    "\n",
    "# Group \"Month Bought\" then sum, sort and display \"Paid\" values\n",
    "df.groupby('Month Bought').sum().sort_values(['Paid'], ascending = False)['Paid']"
   ]
  },
  {
   "cell_type": "code",
   "execution_count": null,
   "metadata": {},
   "outputs": [
    {
     "data": {
      "text/plain": [
       "Month Sold\n",
       "June         18951.5\n",
       "May          15674.0\n",
       "January      14018.0\n",
       "July         12887.0\n",
       "March        12309.0\n",
       "February     12011.0\n",
       "April        10580.0\n",
       "September     9006.0\n",
       "August        3317.0\n",
       "Name: Sale Price, dtype: float64"
      ]
     },
     "execution_count": 19,
     "metadata": {},
     "output_type": "execute_result"
    }
   ],
   "source": [
    "### 18. Best Month For Selling \n",
    "\n",
    "# Best Month for Selling\n",
    "# Creates \"Month Sold\" column and sets it equal to the month number from the date of the item sold then converts it to a Month Name and datetime dtype\n",
    "df['Month Sold'] = pd.to_datetime(df['Date Sold'], format='%m').dt.month_name()\n",
    "\n",
    "# Group \"Month Sold\" then sum, sort and display \"Sale Price\" values\n",
    "df.groupby('Month Sold').sum().sort_values(['Sale Price'], ascending = False).head(10)['Sale Price']"
   ]
  },
  {
   "cell_type": "code",
   "execution_count": null,
   "metadata": {},
   "outputs": [
    {
     "name": "stdout",
     "output_type": "stream",
     "text": [
      "The Average Number of Items Bought per day is: 3.2955223880597013\n",
      "The Average Number of Items Sold per day is: 2.053731343283582\n"
     ]
    }
   ],
   "source": [
    "### 19. Compute the Avg Number of Items Bought/Sold Per Day -> Total Bought/Sold(Prompt 10) / Total Days\n",
    "\n",
    "# Compute Total Number of Days\n",
    "least_recent_date = dt(2023, 1, 1)\n",
    "most_recent_date = df['Date Bought 2023'].max()\n",
    "#print(most_recent_date)\n",
    "time_delta = most_recent_date - least_recent_date\n",
    "#print(time_delta)\n",
    "\n",
    "# Convert time_delta from timedelta to float\n",
    "total_days = time_delta.total_seconds() / (24 * 60 * 60)\n",
    "#print(total_days)\n",
    "\n",
    "\n",
    "## Avg Number of Pairs Bought Per Day\n",
    "bought_2023 = total_bought.astype(float) - 161\n",
    "#print(bought_2022)\n",
    "avg_bought_per_day = (bought_2023.astype(float) / total_days).astype(str)\n",
    "print(\"The Average Number of Items Bought per day is: \" + avg_bought_per_day)\n",
    "\n",
    "\n",
    "## Avg Number of Pairs Sold Per Day\n",
    "#print(total_sold)\n",
    "avg_sold_per_day = (total_sold.astype(float) / total_days).astype(str)\n",
    "print(\"The Average Number of Items Sold per day is: \" + avg_sold_per_day)\n"
   ]
  },
  {
   "cell_type": "code",
   "execution_count": null,
   "metadata": {},
   "outputs": [
    {
     "data": {
      "text/plain": [
       "State Bought\n",
       "CA              248\n",
       "TX               71\n",
       "MN               64\n",
       "NH               64\n",
       "SWE              60\n",
       "PA               51\n",
       "GA               47\n",
       "ID               43\n",
       "FL               41\n",
       "OR               35\n",
       "dtype: int64"
      ]
     },
     "metadata": {},
     "output_type": "display_data"
    }
   ],
   "source": [
    "### 20. Count Total Number of Pairs Bought from each State\n",
    "\n",
    "# Display Amount Purchased from each Website\n",
    "pairs_from_state = df.value_counts(['State Bought'])\n",
    "display(pairs_from_state.head(10))"
   ]
  },
  {
   "cell_type": "code",
   "execution_count": null,
   "metadata": {},
   "outputs": [
    {
     "data": {
      "text/plain": [
       "State Bought\n",
       "CA    16808.18\n",
       "MN     4754.04\n",
       "PA     4417.69\n",
       "TX     3742.37\n",
       "FL     3286.67\n",
       "NH     3029.00\n",
       "IL     2800.87\n",
       "OR     2666.12\n",
       "CO     2430.67\n",
       "GA     2423.49\n",
       "Name: Paid, dtype: float64"
      ]
     },
     "execution_count": 22,
     "metadata": {},
     "output_type": "execute_result"
    }
   ],
   "source": [
    "### 21. Coumpute Total Amount Bought from each State\n",
    "\n",
    "# Group \"State Bought\" then sum, sort and display \"Paid\" values\n",
    "df.groupby('State Bought').sum().sort_values(['Paid'], ascending = False).head(10)['Paid']"
   ]
  },
  {
   "cell_type": "code",
   "execution_count": null,
   "metadata": {},
   "outputs": [
    {
     "data": {
      "text/plain": [
       "State Bought\n",
       "CA    9981.51\n",
       "MN    3643.22\n",
       "PA    3547.18\n",
       "TX    3017.97\n",
       "NH    2499.21\n",
       "GA    2486.90\n",
       "TN    1641.58\n",
       "CO    1585.58\n",
       "ID    1455.52\n",
       "OR    1433.79\n",
       "Name: Profit*, dtype: float64"
      ]
     },
     "execution_count": 23,
     "metadata": {},
     "output_type": "execute_result"
    }
   ],
   "source": [
    "### 22. Compute Total Profit Aquired from each State\n",
    "\n",
    "# Group \"State Bought\" then sum, sort and display \"Profit*\" values\n",
    "df.groupby('State Bought').sum().sort_values(['Profit*'], ascending = False).head(10)['Profit*']"
   ]
  },
  {
   "cell_type": "code",
   "execution_count": null,
   "metadata": {},
   "outputs": [
    {
     "name": "stdout",
     "output_type": "stream",
     "text": [
      "The average amount bought per week is: $1154.46\n"
     ]
    }
   ],
   "source": [
    "### 23. Compute Avg Amount Bought Per Week in 2023 -> (Total Bought in 2023 / Num Weeks)\n",
    "\n",
    "# Compute the total amount bought \n",
    "total_bought_just_2023 = (df['Paid'].sum() - 28406.09) #28406.09 is the amount of sold inventory purchased BEFORE 2023\n",
    "#print(total_bought)\n",
    "\n",
    "# Count the number of weeks\n",
    "df['Week Bought'] = df['Week Bought'].astype(str).str.strip().replace(\"\",0).astype(float)\n",
    "count_weeks = df['Week Bought'].max()\n",
    "#print(count_weeks)\n",
    "\n",
    "# Computation\n",
    "avg_bought_per_week = (total_bought_just_2023) / (count_weeks + 1)\n",
    "print(\"The average amount bought per week is: $\" + avg_bought_per_week.round(2).astype(str))"
   ]
  },
  {
   "cell_type": "code",
   "execution_count": null,
   "metadata": {},
   "outputs": [
    {
     "name": "stdout",
     "output_type": "stream",
     "text": [
      "1265\n",
      "The avg number of items purchased per week is: 16.77\n"
     ]
    }
   ],
   "source": [
    "### 24. Compute Avg Number of Items bought per week\n",
    "\n",
    "# Load in total number of pairs bought\n",
    "num_bought_just_2023 = df['Paid'].count() - 460 #460 is the number of items purchased in BEFORE 2023\n",
    "print(total_bought)\n",
    "\n",
    "# Count total number of weeks\n",
    "#print(count_weeks)\n",
    "\n",
    "# Divide total bought divided by total weeks to compute AVG\n",
    "avg_num_bought_per_week = (num_bought_just_2023 / count_weeks)\n",
    "#str(avg_num_bought_per_week)\n",
    "print(\"The avg number of items purchased per week is: \" + avg_num_bought_per_week.round(2).astype(str))"
   ]
  },
  {
   "cell_type": "code",
   "execution_count": null,
   "metadata": {},
   "outputs": [
    {
     "name": "stdout",
     "output_type": "stream",
     "text": [
      "The Net Profit Margin is: 45.30%\n"
     ]
    }
   ],
   "source": [
    "### 25. Compute Net Profit Margin (Profiability) as a Percentage of Revenue\n",
    "\n",
    "total_profit = df['Profit*'].sum()\n",
    "total_profit\n",
    "\n",
    "total_revenue = df['Sale Price'].sum()\n",
    "total_revenue\n",
    "\n",
    "total_ship_costs = df['Shipping Fees*'].sum()\n",
    "total_ship_costs\n",
    "\n",
    "# Compute Post Shipping fee Net Profit Margin\n",
    "profitability = (total_profit - total_ship_costs) / total_revenue\n",
    "percentage = \"{:.2%}\".format(profitability)\n",
    "print('The Net Profit Margin is: ' + percentage)"
   ]
  },
  {
   "cell_type": "code",
   "execution_count": null,
   "metadata": {},
   "outputs": [
    {
     "name": "stdout",
     "output_type": "stream",
     "text": [
      "The total current inventory asset amount is: $39078.9\n",
      "The total COGS is: $45895.78\n"
     ]
    }
   ],
   "source": [
    "### 26. Compute Inventory Assets vs. COGS (Total amount of inventory and total amount sold)\n",
    "\n",
    "# Create Inventory data frame by selecting rows where the Sale Price column values are Null \n",
    "df_inv = df[df['Sale Price'].isnull()]\n",
    "df_inv.head(10)\n",
    "\n",
    "# Sum Paid column values in df_inv to get total current inventory assets\n",
    "total_inv = df_inv['Paid'].sum()\n",
    "print(\"The total current inventory asset amount is: $\" + total_inv.round(2).astype(str))\n",
    "\n",
    "# Create COGS data frame by selecting rows where the Sale Price column values are NOT Null \n",
    "df_cogs = df[df['Sale Price'].notnull()]\n",
    "df_cogs.head(10)\n",
    "\n",
    "# Sum Paid column values in df_inv to get total current inventory assets\n",
    "total_cogs = df_cogs['Paid'].sum()\n",
    "print(\"The total COGS is: $\"+ total_cogs.round(2).astype(str))"
   ]
  }
 ],
 "metadata": {
  "kernelspec": {
   "display_name": "base",
   "language": "python",
   "name": "python3"
  },
  "language_info": {
   "codemirror_mode": {
    "name": "ipython",
    "version": 3
   },
   "file_extension": ".py",
   "mimetype": "text/x-python",
   "name": "python",
   "nbconvert_exporter": "python",
   "pygments_lexer": "ipython3",
   "version": "3.8.18"
  },
  "orig_nbformat": 4,
  "vscode": {
   "interpreter": {
    "hash": "f70e9cfe00649ce5deb8d2753c25c6eaa4044293049b250b74de7174948c29c9"
   }
  }
 },
 "nbformat": 4,
 "nbformat_minor": 2
}
